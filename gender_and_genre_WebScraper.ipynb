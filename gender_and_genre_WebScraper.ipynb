{
  "nbformat": 4,
  "nbformat_minor": 0,
  "metadata": {
    "colab": {
      "name": "gender-and-genre-WebScraper.ipynb",
      "provenance": [],
      "collapsed_sections": [],
      "include_colab_link": true
    },
    "kernelspec": {
      "name": "python3",
      "display_name": "Python 3"
    }
  },
  "cells": [
    {
      "cell_type": "markdown",
      "metadata": {
        "id": "view-in-github",
        "colab_type": "text"
      },
      "source": [
        "<a href=\"https://colab.research.google.com/github/beloiual/gendered-lyrics/blob/main/gender_and_genre_WebScraper.ipynb\" target=\"_parent\"><img src=\"https://colab.research.google.com/assets/colab-badge.svg\" alt=\"Open In Colab\"/></a>"
      ]
    },
    {
      "cell_type": "code",
      "metadata": {
        "colab": {
          "base_uri": "https://localhost:8080/"
        },
        "id": "ja4tJSo7p2-2",
        "outputId": "1a4d3482-5f7f-4e15-d745-a401c8a56e4a"
      },
      "source": [
        "!pip3 install requests\r\n",
        "!pip3 install beautifulsoup4\r\n"
      ],
      "execution_count": null,
      "outputs": [
        {
          "output_type": "stream",
          "text": [
            "Requirement already satisfied: requests in /usr/local/lib/python3.6/dist-packages (2.23.0)\n",
            "Requirement already satisfied: idna<3,>=2.5 in /usr/local/lib/python3.6/dist-packages (from requests) (2.10)\n",
            "Requirement already satisfied: urllib3!=1.25.0,!=1.25.1,<1.26,>=1.21.1 in /usr/local/lib/python3.6/dist-packages (from requests) (1.24.3)\n",
            "Requirement already satisfied: chardet<4,>=3.0.2 in /usr/local/lib/python3.6/dist-packages (from requests) (3.0.4)\n",
            "Requirement already satisfied: certifi>=2017.4.17 in /usr/local/lib/python3.6/dist-packages (from requests) (2020.12.5)\n",
            "Requirement already satisfied: beautifulsoup4 in /usr/local/lib/python3.6/dist-packages (4.6.3)\n"
          ],
          "name": "stdout"
        },
        {
          "output_type": "execute_result",
          "data": {
            "text/plain": [
              "<function dir>"
            ]
          },
          "metadata": {
            "tags": []
          },
          "execution_count": 6
        }
      ]
    },
    {
      "cell_type": "code",
      "metadata": {
        "colab": {
          "base_uri": "https://localhost:8080/"
        },
        "id": "A3TFrsKKx8G-",
        "outputId": "7887d48b-68ac-4b2f-ab25-3a6e287a504c"
      },
      "source": [
        "import requests\r\n",
        "from bs4 import BeautifulSoup\r\n",
        "#<meta content=\"Learn about Iann Dior: his birthday, what he did before fame, his family life, fun trivia facts, popularity rankings, and more.\" name=\"description\"/>\r\n",
        "#<a href=\"https://www.famousbirthdays.com/profession/popsinger.html\">Pop Singer</a>\r\n",
        "URL = 'https://www.famousbirthdays.com/people/taylor-swift.html'\r\n",
        "page = requests.get(URL)\r\n",
        "\r\n",
        "soup = BeautifulSoup(page.content, 'html.parser')\r\n",
        "#print(soup.prettify)\r\n",
        "\r\n",
        "print('________')\r\n",
        "job_elems = soup.find_all('span', class_=\"title\")\r\n",
        "\r\n",
        "for job_elem in job_elems:\r\n",
        "  print(job_elem.text.strip())\r\n",
        "  if (job_elem.text==\"Pop Singer\"):\r\n",
        "    genre ='Pop'\r\n",
        "  elif job_elem.text==\"Aries Singer\":\r\n",
        "    genre ='Pop'\r\n",
        "  elif job_elem.text==\"Taurus Singer\":\r\n",
        "    genre ='Pop'\r\n",
        "  elif job_elem.text==\"Gemini Singer\":\r\n",
        "    genre ='Pop'\r\n",
        "  elif job_elem.text==\"Cancer Singer\":\r\n",
        "    genre ='Pop'\r\n",
        "  elif job_elem.text==\"Leo Singer\":\r\n",
        "    genre ='Pop'\r\n",
        "  elif job_elem.text==\"Virgo Singer\":\r\n",
        "    genre ='Pop'\r\n",
        "  elif job_elem.text==\"Libra Singer\":\r\n",
        "    genre ='Pop'\r\n",
        "  elif job_elem.text==\"Scorpio Singer\":\r\n",
        "    genre ='Pop'\r\n",
        "  elif job_elem.text==\"Scorpio Singer\":\r\n",
        "    genre ='Pop'\r\n",
        "  elif job_elem.text==\"Sagittarius Singer\":\r\n",
        "    genre ='Pop'\r\n",
        "  elif job_elem.text==\"Capricorn Singer\":\r\n",
        "    genre ='Pop'\r\n",
        "  elif job_elem.text==\"Aquarius Singer\":\r\n",
        "    genre ='Pop'\r\n",
        "  elif job_elem.text==\"Pisces Singer\":\r\n",
        "    genre ='Pop'\r\n",
        "\r\n",
        "\r\n",
        "\r\n",
        "  elif job_elem.text==\"Aries Rapper\":\r\n",
        "    genre='Hip Hop'\r\n",
        "  elif job_elem.text==\"Taurus Rapper\":\r\n",
        "    genre='Hip Hop'\r\n",
        "  elif job_elem.text==\"Gemini Rapper\":\r\n",
        "    genre='Hip Hop'\r\n",
        "  elif job_elem.text==\"Cancer Rapper\":\r\n",
        "    genre='Hip Hop'\r\n",
        "  elif job_elem.text==\"Leo Rapper\":\r\n",
        "    genre='Hip Hop'\r\n",
        "  elif job_elem.text==\"Virgo Rapper\":\r\n",
        "    genre='Hip Hop'\r\n",
        "  elif job_elem.text==\"Libra Rapper\":\r\n",
        "    genre='Hip Hop'\r\n",
        "  elif job_elem.text==\"Scorpio Rapper\":\r\n",
        "    genre='Hip Hop'\r\n",
        "  elif job_elem.text==\"Scorpio Rapper\":\r\n",
        "    genre='Hip Hop'\r\n",
        "  elif job_elem.text==\"Sagittarius Rapper\":\r\n",
        "    genre='Hip Hop'\r\n",
        "  elif job_elem.text==\"Capricorn Rapper\":\r\n",
        "    genre='Hip Hop'\r\n",
        "  elif job_elem.text==\"Aquarius Rapper\":\r\n",
        "    genre='Hip Hop'\r\n",
        "  elif job_elem.text==\"Pisces Rapper\":\r\n",
        "    genre='Hip Hop'\r\n",
        "  elif job_elem.text==\"Rapper\":\r\n",
        "    genre='Hip Hop'\r\n",
        "  elif job_elem.text==\"Country Singer\":\r\n",
        "    genre='Country'\r\n",
        "  elif job_elem.text==\"Rock Band\":\r\n",
        "    genre='Rock'\r\n",
        "  elif job_elem.text==\"Pop Band\":\r\n",
        "    genre='Pop'\r\n",
        "  elif job_elem.text==\"Metal Band\":\r\n",
        "    genre='Metal'\r\n",
        "\r\n",
        "print('________')\r\n",
        "print(genre)\r\n",
        "genderFound=False\r\n",
        "gender_elems = soup.find_all('div', class_=\"bio col-sm-7 col-md-8 col-lg-6\")\r\n",
        "for gender_elem in gender_elems:\r\n",
        "  #print(gender_elem.text.strip())\r\n",
        "  if gender_elem.text.find('she')!=-1:\r\n",
        "    gender=\"Female\"\r\n",
        "    genderFound=True\r\n",
        "    break\r\n",
        "  elif gender_elem.text.find('they')!=-1:\r\n",
        "    gender=\"Other\"\r\n",
        "    genderFound=True\r\n",
        "    break\r\n",
        "  elif gender_elem.text.find('he')!=-1:\r\n",
        "    gender=\"Male\"\r\n",
        "    genderFound=True\r\n",
        "    break  \r\n",
        "\r\n",
        "\r\n",
        "if genderFound!=True:\r\n",
        "  gender_elems = soup.find_all('div', class_=\" col-sm-5 group-about\")\r\n",
        "  for gender_elem in gender_elems:\r\n",
        "    if gender_elem.text.find('they')!=-1:\r\n",
        "      gender=\"Other\"\r\n",
        "      genderFound=True\r\n",
        "      break\r\n",
        "\r\n",
        "\r\n",
        "print(gender)\r\n",
        "\r\n",
        "\r\n",
        "#<div class=\"bio col-sm-7 col-md-8 col-lg-6\">\r\n",
        "#<div class=\" col-sm-5 group-about\">\r\n",
        "\r\n",
        "\r\n",
        "#job_elems = soup.find_all('span', string=\"Pop\")\r\n"
      ],
      "execution_count": 86,
      "outputs": [
        {
          "output_type": "stream",
          "text": [
            "________\n",
            "Most Popular\n",
            "Born on December 13\n",
            "Pop Singer\n",
            "31 Year Old\n",
            "Born in Pennsylvania\n",
            "Sagittarius\n",
            "First Name Taylor\n",
            "Born in Reading, PA\n",
            "Most Popular\n",
            "Born on December 13\n",
            "Pop Singer\n",
            "31 Year Old\n",
            "Born in Pennsylvania\n",
            "Sagittarius\n",
            "First Name Taylor\n",
            "Born in Reading, PA\n",
            "________\n",
            "Pop\n",
            "Female\n"
          ],
          "name": "stdout"
        }
      ]
    },
    {
      "cell_type": "code",
      "metadata": {
        "id": "IO67zN2lyxQb"
      },
      "source": [
        ""
      ],
      "execution_count": null,
      "outputs": []
    }
  ]
}