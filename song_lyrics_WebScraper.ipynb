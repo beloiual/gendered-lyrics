{
  "nbformat": 4,
  "nbformat_minor": 0,
  "metadata": {
    "colab": {
      "name": "song-lyrics-WebScraper.ipynb",
      "provenance": [],
      "collapsed_sections": [],
      "authorship_tag": "ABX9TyOGmIA5HJ9Uz3pJihuFU/Eo",
      "include_colab_link": true
    },
    "kernelspec": {
      "name": "python3",
      "display_name": "Python 3"
    }
  },
  "cells": [
    {
      "cell_type": "markdown",
      "metadata": {
        "id": "view-in-github",
        "colab_type": "text"
      },
      "source": [
        "<a href=\"https://colab.research.google.com/github/beloiual/gendered-lyrics/blob/main/song_lyrics_WebScraper.ipynb\" target=\"_parent\"><img src=\"https://colab.research.google.com/assets/colab-badge.svg\" alt=\"Open In Colab\"/></a>"
      ]
    },
    {
      "cell_type": "code",
      "metadata": {
        "colab": {
          "base_uri": "https://localhost:8080/"
        },
        "id": "B3bT75vE3gQU",
        "outputId": "94f591da-87f4-4647-8046-89f40d8997d7"
      },
      "source": [
        "!pip3 install requests\r\n",
        "!pip3 install beautifulsoup4"
      ],
      "execution_count": null,
      "outputs": [
        {
          "output_type": "stream",
          "text": [
            "Requirement already satisfied: requests in /usr/local/lib/python3.6/dist-packages (2.23.0)\n",
            "Requirement already satisfied: idna<3,>=2.5 in /usr/local/lib/python3.6/dist-packages (from requests) (2.10)\n",
            "Requirement already satisfied: certifi>=2017.4.17 in /usr/local/lib/python3.6/dist-packages (from requests) (2020.12.5)\n",
            "Requirement already satisfied: urllib3!=1.25.0,!=1.25.1,<1.26,>=1.21.1 in /usr/local/lib/python3.6/dist-packages (from requests) (1.24.3)\n",
            "Requirement already satisfied: chardet<4,>=3.0.2 in /usr/local/lib/python3.6/dist-packages (from requests) (3.0.4)\n",
            "Requirement already satisfied: beautifulsoup4 in /usr/local/lib/python3.6/dist-packages (4.6.3)\n"
          ],
          "name": "stdout"
        }
      ]
    },
    {
      "cell_type": "code",
      "metadata": {
        "colab": {
          "base_uri": "https://localhost:8080/"
        },
        "id": "jNf6vc-U3wPZ",
        "outputId": "d18535e9-1750-41cf-cb9a-86ac46ea2cea"
      },
      "source": [
        "import requests\r\n",
        "from bs4 import BeautifulSoup\r\n",
        "\r\n",
        "URL = 'https://genius.com/Dwayne-the-rock-johnson-youre-welcome-lyrics'\r\n",
        "page = requests.get(URL)\r\n",
        "\r\n",
        "soup = BeautifulSoup(page.content, 'html.parser')\r\n",
        "lyrics = soup.find(class_=\"lyrics\")\r\n",
        "\r\n",
        "words = lyrics.text.split();\r\n",
        "\r\n",
        "lyrics_dict = { }\r\n",
        "\r\n",
        "for word in words:\r\n",
        "  word = word.replace('{', '')\r\n",
        "  word = word.replace('}', '')\r\n",
        "  word = word.replace('[', '')\r\n",
        "  word = word.replace(']', '')\r\n",
        "  word = word.replace('(', '')\r\n",
        "  word = word.replace(')','')\r\n",
        "  word = word.replace(',','')\r\n",
        "  word = word.replace('.','')\r\n",
        "  word = word.replace(':','')\r\n",
        "  word = word.replace('\"','')\r\n",
        "  word = word.replace('?','')\r\n",
        "\r\n",
        "  if word not in lyrics_dict:\r\n",
        "    lyrics_dict[word] = 1\r\n",
        "  else:\r\n",
        "    lyrics_dict[word] = lyrics_dict.get(word) + 1\r\n",
        "  \r\n",
        "print(lyrics_dict)\r\n"
      ],
      "execution_count": null,
      "outputs": [
        {
          "output_type": "stream",
          "text": [
            "{'Verse': 3, '1': 1, 'Okay': 1, 'okay': 6, 'I': 15, 'see': 2, \"what's\": 1, 'happening': 1, 'here': 2, \"You're\": 4, 'face-to-face': 1, 'with': 2, 'greatness': 1, 'and': 5, \"it's\": 13, 'strange': 1, 'You': 1, \"don't\": 1, 'even': 1, 'know': 3, 'how': 1, 'you': 5, 'feel': 1, 'adorable': 1, 'Well': 4, 'nice': 1, 'to': 5, 'that': 4, 'humans': 1, 'never': 1, 'change': 1, 'Open': 1, 'your': 5, 'eyes': 1, \"let's\": 1, 'begin': 1, 'Yes': 1, 'really': 1, 'me': 3, 'Maui': 5, 'breathe': 1, 'it': 3, 'in': 2, 'a': 4, 'lot': 1, 'the': 19, 'hair': 1, 'bod': 1, 'When': 3, \"you're\": 13, 'staring': 1, 'at': 3, 'demigod': 1, 'Chorus': 3, 'What': 2, 'can': 5, 'say': 4, 'except': 2, 'welcome': 14, 'For': 3, 'tides': 1, 'sun': 2, 'sky': 2, 'Hey': 4, \"I'm\": 3, 'just': 4, 'an': 2, 'ordinary': 1, 'demi-guy!': 1, '2': 1, 'what': 2, 'has': 1, 'two': 1, 'thumbs': 1, 'pulled': 2, 'up': 1, 'were': 1, 'waddling': 1, 'yay': 1, 'high': 1, 'This': 1, 'guy': 1, 'nights': 1, 'got': 2, 'cold': 1, 'who': 1, 'stole': 1, 'fire': 1, 'from': 2, 'down': 1, 'below': 1, 'looking': 1, 'him': 1, 'yo!': 1, 'Oh': 2, 'also': 1, 'lassoed': 1, 'To': 2, 'stretch': 1, 'days': 1, 'bring': 1, 'fun': 1, 'Also': 1, 'harnessed': 1, 'breeze': 1, 'fill': 1, 'sails': 1, 'shake': 1, 'trees': 1, 'So': 1, 'islands': 1, 'sea': 1, \"There's\": 1, 'no': 1, 'need': 2, 'pray': 1, 'guess': 1, 'my': 2, 'way': 1, 'of': 4, 'being': 1, '3': 1, 'come': 2, 'think': 2, 'Kid': 1, 'honestly': 1, 'go': 2, 'on': 3, 'explain': 1, 'every': 1, 'natural': 1, 'phenomenon': 1, 'The': 1, 'tide': 1, 'grass': 1, 'ground': 1, 'was': 1, 'messing': 1, 'around': 1, 'killed': 1, 'eel': 1, 'buried': 1, 'its': 1, 'guts': 1, 'Sprouted': 1, 'tree': 1, 'now': 1, \"you've\": 1, 'coconuts': 1, \"What's\": 1, 'lesson': 1, 'is': 1, 'takeaway': 1, \"Don't\": 1, 'mess': 1, 'when': 1, \"he's\": 1, 'breakaway': 1, 'And': 2, 'tapestry': 1, 'skin': 1, 'Is': 1, 'map': 1, 'victories': 1, 'win': 1, 'Look': 2, 'where': 1, \"I've\": 1, 'been': 1, 'make': 1, 'everything': 2, 'happen': 1, 'mean': 1, 'mini': 1, 'tippity': 1, 'tapping': 1, 'Ha': 1, 'ha': 5, 'hey': 1, 'anyway': 1, 'let': 1, 'wonderful': 1, 'world': 1, 'gotta': 1, 'day': 1, \"'Cause\": 2, 'gonna': 1, 'boat': 1, 'sailing': 1, 'away': 2, 'do': 1, 'but': 1, 'float': 1, 'Outro': 1, 'thank': 1, 'you!': 1}\n"
          ],
          "name": "stdout"
        }
      ]
    }
  ]
}